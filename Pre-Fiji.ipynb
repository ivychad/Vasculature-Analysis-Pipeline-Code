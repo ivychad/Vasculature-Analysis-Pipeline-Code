{
 "cells": [
  {
   "cell_type": "code",
   "execution_count": null,
   "metadata": {},
   "outputs": [],
   "source": [
    "# import libraries\n",
    "\n",
    "import matplotlib.pyplot as plt\n",
    "import pandas as pd\n",
    "import numpy as np\n",
    "from PIL import Image, ImageDraw\n",
    "from skimage import io\n",
    "import time\n",
    "import tifffile as tif"
   ]
  },
  {
   "cell_type": "markdown",
   "metadata": {},
   "source": [
    "## Specify magic numbers"
   ]
  },
  {
   "cell_type": "markdown",
   "metadata": {},
   "source": [
    "- Stacksize -> Number of images in the stack\n",
    "- Data -> Path to datafile\n",
    "- Coorfile -> Excel file (.xlsx) with coordinates of the layers in format\n",
    "- Coorcount -> number of coordinates for each layer (only x or xy?)"
   ]
  },
  {
   "cell_type": "code",
   "execution_count": null,
   "metadata": {},
   "outputs": [],
   "source": [
    "# CHANGE WITH EVERY NEW DATASET\n",
    "STACKSIZE = 1001\n",
    "DATA = \"V2 Binary.tif\"\n",
    "COORFILE = np.asarray(pd.read_excel(r\"CoorTemplate.xlsx\", sheet_name= \"V1\"))\n",
    "# number of x,y coordinate tuples in each line\n",
    "LINE_COORCOUNT = 12\n"
   ]
  },
  {
   "cell_type": "markdown",
   "metadata": {},
   "source": [
    "## Fixed numbers -> same for every dataset"
   ]
  },
  {
   "cell_type": "code",
   "execution_count": null,
   "metadata": {},
   "outputs": [],
   "source": [
    "# Fixed variables\n",
    "# set the filling of the polygon, can be anything but 0, does not matter, because that is the part we do not need\n",
    "EMPTY = 2\n",
    "BLACK = 0\n",
    "# number of x,y coordinate tuples in each polygon\n",
    "COORCOUNT = 2*LINE_COORCOUNT"
   ]
  },
  {
   "cell_type": "markdown",
   "metadata": {},
   "source": [
    "## Function for cropping stack into stack of only one layer"
   ]
  },
  {
   "cell_type": "code",
   "execution_count": null,
   "metadata": {},
   "outputs": [],
   "source": [
    "def layercropping(coorfile, layernumber, savefile):\n",
    "    \n",
    "    # open datafile an convert to stack, clear memory of large image file\n",
    "    stack = io.imread(DATA)\n",
    "    stackarr = np.asarray(stack)\n",
    "    del stack\n",
    "    \n",
    "    #  local variables\n",
    "    itrpltd_dist = []\n",
    "    layertop = []\n",
    "    layerbot = []\n",
    "    layer_stack = []\n",
    "\n",
    "    # make polygon for top of stack (layertop) and bottom of stack (layerbot) by appending the upper and lower layer bound lines\n",
    "    # add top line\n",
    "    for n in range(LINE_COORCOUNT):\n",
    "        layertop.append(tuple((coorfile[layernumber-1][n],coorfile[layernumber-1][LINE_COORCOUNT+n])))\n",
    "        layerbot.append(tuple((coorfile[layernumber+3][n],coorfile[layernumber+3][LINE_COORCOUNT+n])))\n",
    "\n",
    "    # add bottom line\n",
    "    for n in range(LINE_COORCOUNT, 0,-1):\n",
    "        layertop.append(tuple((coorfile[layernumber][n-1],coorfile[layernumber][n+LINE_COORCOUNT-1])))\n",
    "        layerbot.append(tuple((coorfile[layernumber+4][n-1],coorfile[layernumber+4][n+LINE_COORCOUNT-1])))\n",
    "\n",
    "    # calculate the difference between top and bottom polygon y-coordinates, the difference\n",
    "    # by stack size -1 = number of images that need to be interpolated\n",
    "    for n in range(COORCOUNT):\n",
    "        diff = layertop[n][1]-layerbot[n][1]\n",
    "        dist = diff/(STACKSIZE-1)\n",
    "        itrpltd_dist.append(dist)\n",
    "\n",
    "    # fill a stack of size stack_size (size of data stack) with coordinates of top layer -> will be changed for each image in next step\n",
    "    arr1 = np.array(layertop)\n",
    "    stack_coordinates = [arr1]*STACKSIZE\n",
    "    stack_coord = np.asarray(stack_coordinates)\n",
    "\n",
    "    # get an array for the interpolated coordinates for all images -> image coordinate - interpolated distance\n",
    "    for n in range(STACKSIZE):        \n",
    "        for i in range(COORCOUNT):         \n",
    "            stack_coord[n][i][1] = stack_coord[n][i][1] - itrpltd_dist[i]*n\n",
    "\n",
    "    # crop stack image by image to polygon and then create new stack with cropped images       \n",
    "    for i in range(STACKSIZE):\n",
    "        \n",
    "        # select current image\n",
    "        currentimage = stackarr[i]\n",
    "        polygon = []\n",
    "\n",
    "        # make calculated coordinates to tuples (only way they can be fed into the polygon drawing function)\n",
    "        for n in range (COORCOUNT):\n",
    "            coordpair = tuple(stack_coord[i][n])\n",
    "            polygon.append(coordpair)\n",
    "        \n",
    "        # create empty image with same image as the data image\n",
    "        maskIm = Image.new('L', (currentimage.shape[1], currentimage.shape[0]), BLACK)\n",
    "        \n",
    "        # draw polygon mask into empty image (fill polygon with 2s)\n",
    "        ImageDraw.Draw(maskIm).polygon(polygon, outline=EMPTY, fill=EMPTY)\n",
    "        arraymask = np.array(maskIm)\n",
    "        \n",
    "        # set selected image to 0 (black) where there is no filled polygon -> leaves the polygon data\n",
    "        currentimage[arraymask!=EMPTY]=BLACK\n",
    "        \n",
    "        # append cropped image to new cropped image stack\n",
    "        layer_stack.append(currentimage)\n",
    "    \n",
    "    # convert layer polygons to array\n",
    "    arr_layertop = np.array(layertop)\n",
    "    arr_layerbot = np.array(layerbot)\n",
    "    \n",
    "    # get for both top and bottom polygon the min and max y value\n",
    "    MIN_top = min(arr_layertop[:,1])\n",
    "    MAX_top = max(arr_layertop[:,1])\n",
    "    MIN_bottom = min(arr_layerbot[:,1])\n",
    "    MAX_bottom = max(arr_layerbot[:,1])\n",
    "\n",
    "    # get overall min and max y value -> for whole stack\n",
    "    MIN = min(MIN_top,MIN_bottom)\n",
    "    MAX = max(MAX_top,MAX_bottom)\n",
    "\n",
    "    # crop away top and bottom of image that does not contain data (data: between min & max)\n",
    "    layer_stack = np.asarray(layer_stack)\n",
    "    layer_stack_crop = layer_stack[:,MIN:MAX]\n",
    "\n",
    "    # save layer stack as tiff file\n",
    "    tif.imwrite(savefile, layer_stack_crop, bigtiff=True)"
   ]
  },
  {
   "cell_type": "markdown",
   "metadata": {},
   "source": [
    "### Run layer crop function for each layer and save tif of layer stack"
   ]
  },
  {
   "cell_type": "code",
   "execution_count": null,
   "metadata": {},
   "outputs": [],
   "source": [
    "# run function for layers, input name the layer stack tiff should be saved as\n",
    "#layer1 = layercropping(COORFILE, 1, \"layer1.tif\")\n",
    "#layer2 = layercropping(COORFILE, 2, \"layer2.tif\")\n",
    "#layer3 = layercropping(COORFILE, 3, \"layer3.tif\")"
   ]
  },
  {
   "cell_type": "markdown",
   "metadata": {},
   "source": [
    "## Calculate coordinates for straightening of each image in the stack - Interpolation"
   ]
  },
  {
   "cell_type": "code",
   "execution_count": null,
   "metadata": {},
   "outputs": [],
   "source": [
    "def straightening_coor(coorfile, layernumber, filename):\n",
    "    upper_layertop = []\n",
    "    upper_layerbot = []\n",
    "    lower_layertop = []\n",
    "    lower_layerbot = []\n",
    "\n",
    "    coorfile = coorfile[:,1:]\n",
    "\n",
    "    for n in range(LINE_COORCOUNT):\n",
    "        upper_layertop.append([coorfile[layernumber-1][n],coorfile[layernumber-1][LINE_COORCOUNT+n]])\n",
    "        upper_layerbot.append([coorfile[layernumber+3][n],coorfile[layernumber+3][LINE_COORCOUNT+n]])\n",
    "        lower_layertop.append([coorfile[layernumber][n],coorfile[layernumber][LINE_COORCOUNT+n]])\n",
    "        lower_layerbot.append([coorfile[layernumber+4][n],coorfile[layernumber+4][LINE_COORCOUNT+n]])\n",
    "\n",
    "    straight_top = []\n",
    "    straight_bot = []\n",
    "\n",
    "    for i in range(LINE_COORCOUNT):\n",
    "        dis_y_top = (lower_layertop[i][1]-upper_layertop[i][1])/2\n",
    "        dis_y_bot = (lower_layerbot[i][1]-upper_layerbot[i][1])/2\n",
    "        y_top = dis_y_top + upper_layertop[i][1]\n",
    "        y_bot = dis_y_bot + upper_layerbot[i][1]\n",
    "        upper_layertop[i][1] = y_top\n",
    "        upper_layerbot[i][1] = y_bot\n",
    "        straight_top = upper_layertop\n",
    "        straight_bot = upper_layerbot\n",
    "\n",
    "\n",
    "    itrpltd_dist = []\n",
    "\n",
    "    # calculate the difference between top and bottom polygon y-coordinates, the difference\n",
    "    # by stack size -1 = number of images that need to be interpolated\n",
    "\n",
    "    for n in range(LINE_COORCOUNT):\n",
    "         diff = straight_top[n][1]-straight_bot[n][1]\n",
    "         dist = diff/(STACKSIZE-1)\n",
    "         itrpltd_dist.append(dist)\n",
    "\n",
    "    # fill a stack of size stack_size (size of data stack) with coordinates of top layer -> will be changed for each image in next step\n",
    "    arr1 = np.array(straight_top)\n",
    "    stack_coordinates = [arr1]*STACKSIZE\n",
    "    stack_coord = np.asarray(stack_coordinates)\n",
    "\n",
    "    # get an array for the interpolated coordinates for all images -> image coordinate - interpolated distance\n",
    "\n",
    "    for n in range(STACKSIZE):        \n",
    "        for i in range(LINE_COORCOUNT):         \n",
    "            stack_coord[n][i][1] = stack_coord[n][i][1] - itrpltd_dist[i]*n\n",
    "    \n",
    "    straight_coord = []\n",
    "    straight_coordinates = []\n",
    "    straight_coordinates.append([100]*24)\n",
    "\n",
    "    for n in range(STACKSIZE):\n",
    "        straight_coord = []\n",
    "        for i in range(LINE_COORCOUNT):\n",
    "                straight_coord.append(stack_coord[n][i][0])\n",
    "                straight_coord.append(stack_coord[n][i][1])      \n",
    "        straight_coordinates.append(straight_coord)\n",
    "\n",
    "    straight_coordinates = np.asarray(straight_coordinates)\n",
    "    straight_coord_round = np.around(straight_coordinates,2) \n",
    "\n",
    "    # save to excel file with filename  \n",
    "    np.savetxt(filename, straight_coord_round, delimiter=',') \n"
   ]
  },
  {
   "cell_type": "markdown",
   "metadata": {},
   "source": [
    "### Run straightening coordinate function for each layer and save as .csv"
   ]
  },
  {
   "cell_type": "code",
   "execution_count": null,
   "metadata": {},
   "outputs": [],
   "source": [
    "# straight_layer1 = straightening_coor(COORFILE, 1, \"V1 Layer1 StraightCoor.csv\")\n",
    "# straight_layer2 = straightening_coor(COORFILE, 2, \"V1 Layer2 StraightCoor.csv\")\n",
    "# straight_layer3 = straightening_coor(COORFILE, 3, \"V1 Layer3 StraightCoor.csv\")"
   ]
  }
 ],
 "metadata": {
  "kernelspec": {
   "display_name": "Python 3.9.7 64-bit",
   "language": "python",
   "name": "python3"
  },
  "language_info": {
   "name": "python",
   "version": "3.9.7"
  },
  "orig_nbformat": 4,
  "vscode": {
   "interpreter": {
    "hash": "52634da84371cba311ea128a5ea7cdc41ff074b781779e754b270ff9f8153cee"
   }
  }
 },
 "nbformat": 4,
 "nbformat_minor": 2
}
