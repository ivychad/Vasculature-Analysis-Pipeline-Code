{
 "cells": [
  {
   "cell_type": "code",
   "execution_count": 1,
   "metadata": {},
   "outputs": [],
   "source": [
    "# import libraries\n",
    "\n",
    "import matplotlib.pyplot as plt\n",
    "import pandas as pd\n",
    "import numpy as np\n",
    "from PIL import Image, ImageDraw\n",
    "from skimage import io\n",
    "import time\n",
    "import tifffile as tif"
   ]
  },
  {
   "cell_type": "code",
   "execution_count": 2,
   "metadata": {},
   "outputs": [],
   "source": [
    "# CHANGE WITH EVERY NEW DATASET\n",
    "STACKSIZE = 1000\n",
    "DATA = \"D:/Hanna Analysis/Orientation_13_7_fused/13_7_fused_binary_cropped.tif\"\n",
    "COORFILE = np.asarray(pd.read_excel(r\"D:/Hanna Analysis/Orientation_13_7_fused/LayerCoor_13_7_fused.xlsx\")) # , sheet-name = \"V1\"\n",
    "# number of x,y coordinate tuples in each line\n",
    "LINE_COORCOUNT = 22\n",
    "# total number of layers specified in coordinate file\n",
    "LAYER_COUNT = 1"
   ]
  },
  {
   "cell_type": "code",
   "execution_count": 3,
   "metadata": {},
   "outputs": [],
   "source": [
    "# Fixed variables\n",
    "# set the filling of the polygon, can be anything but 0, does not matter, because that is the part we do not need\n",
    "EMPTY = 2\n",
    "BLACK = 0\n",
    "# number of x,y coordinate tuples in each polygon\n",
    "COORCOUNT = 2*LINE_COORCOUNT"
   ]
  },
  {
   "cell_type": "code",
   "execution_count": 4,
   "metadata": {},
   "outputs": [],
   "source": [
    "def straightening_coor(coorfile, layernumber, filename):\n",
    "    upper_layertop = []\n",
    "    upper_layerbot = []\n",
    "    lower_layertop = []\n",
    "    lower_layerbot = []\n",
    "\n",
    "    coorfile = coorfile[:,1:]\n",
    "\n",
    "    for n in range(LINE_COORCOUNT):\n",
    "        upper_layertop.append([coorfile[layernumber-1][n],coorfile[layernumber-1][LINE_COORCOUNT+n]])\n",
    "        upper_layerbot.append([coorfile[layernumber+(LAYER_COUNT)][n],coorfile[layernumber+(LAYER_COUNT)][LINE_COORCOUNT+n]])\n",
    "        lower_layertop.append([coorfile[layernumber][n],coorfile[layernumber][LINE_COORCOUNT+n]])\n",
    "        lower_layerbot.append([coorfile[layernumber+(LAYER_COUNT+1)][n],coorfile[layernumber+(LAYER_COUNT+1)][LINE_COORCOUNT+n]])\n",
    "\n",
    "    straight_top = []\n",
    "    straight_bot = []\n",
    "\n",
    "    for i in range(LINE_COORCOUNT):\n",
    "        dis_y_top = (lower_layertop[i][1]-upper_layertop[i][1])/2\n",
    "        dis_y_bot = (lower_layerbot[i][1]-upper_layerbot[i][1])/2\n",
    "        y_top = dis_y_top + upper_layertop[i][1]\n",
    "        y_bot = dis_y_bot + upper_layerbot[i][1]\n",
    "        upper_layertop[i][1] = y_top\n",
    "        upper_layerbot[i][1] = y_bot\n",
    "        straight_top = upper_layertop\n",
    "        straight_bot = upper_layerbot\n",
    "\n",
    "\n",
    "    itrpltd_dist = []\n",
    "\n",
    "    # calculate the difference between top and bottom polygon y-coordinates, the difference\n",
    "    # by stack size -1 = number of images that need to be interpolated\n",
    "\n",
    "    for n in range(LINE_COORCOUNT):\n",
    "         diff = straight_top[n][1]-straight_bot[n][1]\n",
    "         dist = diff/(STACKSIZE-1)\n",
    "         itrpltd_dist.append(dist)\n",
    "\n",
    "    # fill a stack of size stack_size (size of data stack) with coordinates of top layer -> will be changed for each image in next step\n",
    "    arr1 = np.array(straight_top)\n",
    "    stack_coordinates = [arr1]*STACKSIZE\n",
    "    stack_coord = np.asarray(stack_coordinates)\n",
    "\n",
    "    # get an array for the interpolated coordinates for all images -> image coordinate - interpolated distance\n",
    "\n",
    "    for n in range(STACKSIZE):        \n",
    "        for i in range(LINE_COORCOUNT):         \n",
    "            stack_coord[n][i][1] = stack_coord[n][i][1] - itrpltd_dist[i]*n\n",
    "    \n",
    "    straight_coord = []\n",
    "    straight_coordinates = []\n",
    "    straight_coordinates.append([100]*24)\n",
    "\n",
    "    for n in range(STACKSIZE):\n",
    "        straight_coord = []\n",
    "        for i in range(LINE_COORCOUNT):\n",
    "                straight_coord.append(stack_coord[n][i][0])\n",
    "                straight_coord.append(stack_coord[n][i][1])      \n",
    "        straight_coordinates.append(straight_coord)\n",
    "\n",
    "    straight_coordinates = np.asarray(straight_coordinates)\n",
    "    straight_coord_round = np.around(straight_coordinates,2) \n",
    "\n",
    "    # save to excel file with filename  \n",
    "    np.savetxt(filename, straight_coord_round, delimiter=',') "
   ]
  },
  {
   "cell_type": "code",
   "execution_count": 5,
   "metadata": {},
   "outputs": [
    {
     "ename": "ValueError",
     "evalue": "setting an array element with a sequence. The requested array has an inhomogeneous shape after 1 dimensions. The detected shape was (1001,) + inhomogeneous part.",
     "output_type": "error",
     "traceback": [
      "\u001b[1;31m---------------------------------------------------------------------------\u001b[0m",
      "\u001b[1;31mValueError\u001b[0m                                Traceback (most recent call last)",
      "Cell \u001b[1;32mIn[5], line 1\u001b[0m\n\u001b[1;32m----> 1\u001b[0m straight_layer1 \u001b[39m=\u001b[39m straightening_coor(COORFILE, \u001b[39m1\u001b[39;49m, \u001b[39m\"\u001b[39;49m\u001b[39mV1 Layer1 StraightCoor.csv\u001b[39;49m\u001b[39m\"\u001b[39;49m)\n\u001b[0;32m      2\u001b[0m \u001b[39m# straight_layer2 = straightening_coor(COORFILE, 2, \"V1 Layer2 StraightCoor.csv\")\u001b[39;00m\n\u001b[0;32m      3\u001b[0m \u001b[39m# straight_layer3 = straightening_coor(COORFILE, 3, \"V1 Layer3 StraightCoor.csv\")\u001b[39;00m\n",
      "Cell \u001b[1;32mIn[4], line 61\u001b[0m, in \u001b[0;36mstraightening_coor\u001b[1;34m(coorfile, layernumber, filename)\u001b[0m\n\u001b[0;32m     58\u001b[0m             straight_coord\u001b[39m.\u001b[39mappend(stack_coord[n][i][\u001b[39m1\u001b[39m])      \n\u001b[0;32m     59\u001b[0m     straight_coordinates\u001b[39m.\u001b[39mappend(straight_coord)\n\u001b[1;32m---> 61\u001b[0m straight_coordinates \u001b[39m=\u001b[39m np\u001b[39m.\u001b[39;49masarray(straight_coordinates)\n\u001b[0;32m     62\u001b[0m straight_coord_round \u001b[39m=\u001b[39m np\u001b[39m.\u001b[39maround(straight_coordinates,\u001b[39m2\u001b[39m) \n\u001b[0;32m     64\u001b[0m \u001b[39m# save to excel file with filename  \u001b[39;00m\n",
      "\u001b[1;31mValueError\u001b[0m: setting an array element with a sequence. The requested array has an inhomogeneous shape after 1 dimensions. The detected shape was (1001,) + inhomogeneous part."
     ]
    }
   ],
   "source": [
    "straight_layer1 = straightening_coor(COORFILE, 1, \"V1 Layer1 StraightCoor.csv\")\n",
    "# straight_layer2 = straightening_coor(COORFILE, 2, \"V1 Layer2 StraightCoor.csv\")\n",
    "# straight_layer3 = straightening_coor(COORFILE, 3, \"V1 Layer3 StraightCoor.csv\")"
   ]
  }
 ],
 "metadata": {
  "kernelspec": {
   "display_name": "Python 3",
   "language": "python",
   "name": "python3"
  },
  "language_info": {
   "codemirror_mode": {
    "name": "ipython",
    "version": 3
   },
   "file_extension": ".py",
   "mimetype": "text/x-python",
   "name": "python",
   "nbconvert_exporter": "python",
   "pygments_lexer": "ipython3",
   "version": "3.9.13"
  },
  "orig_nbformat": 4
 },
 "nbformat": 4,
 "nbformat_minor": 2
}
