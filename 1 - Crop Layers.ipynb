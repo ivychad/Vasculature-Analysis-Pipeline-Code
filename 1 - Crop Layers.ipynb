{
 "cells": [
  {
   "cell_type": "code",
   "execution_count": 77,
   "metadata": {},
   "outputs": [],
   "source": [
    "# import libraries\n",
    "\n",
    "import matplotlib.pyplot as plt\n",
    "import pandas as pd\n",
    "import numpy as np\n",
    "from PIL import Image, ImageDraw\n",
    "from skimage import io\n",
    "import time\n",
    "import tifffile as tif"
   ]
  },
  {
   "attachments": {},
   "cell_type": "markdown",
   "metadata": {},
   "source": [
    "## Specify magic numbers"
   ]
  },
  {
   "attachments": {},
   "cell_type": "markdown",
   "metadata": {},
   "source": [
    "- Stacksize -> Number of images in the stack\n",
    "- Data -> Path to datafile\n",
    "- Coorfile -> Excel file (.xlsx) with coordinates of the layers in format\n",
    "- Coorcount -> number of coordinates for each layer (only x or xy?)\n",
    "- Layer-count -> number of layers to be segmented"
   ]
  },
  {
   "cell_type": "code",
   "execution_count": 78,
   "metadata": {},
   "outputs": [],
   "source": [
    "# CHANGE WITH EVERY NEW DATASET\n",
    "STACKSIZE = 1000\n",
    "DATA = \"D:/Hanna Analysis/Orientation_13_7_fused/13_7_fused_binary_cropped.tif\"\n",
    "COORFILE = np.asarray(pd.read_excel(r\"D:/Hanna Analysis/Orientation_13_7_fused/LayerCoor_13_7_fused.xlsx\")) # , sheet-name = \"V1\"\n",
    "# number of x,y coordinate tuples in each line\n",
    "LINE_COORCOUNT = 22\n",
    "# total number of layers specified in coordinate file\n",
    "LAYER_COUNT = 1\n"
   ]
  },
  {
   "attachments": {},
   "cell_type": "markdown",
   "metadata": {},
   "source": [
    "## Fixed numbers -> same for every dataset"
   ]
  },
  {
   "cell_type": "code",
   "execution_count": 79,
   "metadata": {},
   "outputs": [],
   "source": [
    "# Fixed variables\n",
    "# set the filling of the polygon, can be anything but 0, does not matter, because that is the part we do not need\n",
    "EMPTY = 2\n",
    "BLACK = 0\n",
    "# number of x,y coordinate tuples in each polygon\n",
    "COORCOUNT = 2*LINE_COORCOUNT"
   ]
  },
  {
   "attachments": {},
   "cell_type": "markdown",
   "metadata": {},
   "source": [
    "## Function for cropping stack into stack of only one layer"
   ]
  },
  {
   "cell_type": "code",
   "execution_count": 80,
   "metadata": {},
   "outputs": [],
   "source": [
    "def layercropping(coorfile, layernumber, savefile):\n",
    "    \n",
    "    # open datafile an convert to stack, clear memory of large image file\n",
    "    stack = io.imread(DATA)\n",
    "    stackarr = np.asarray(stack)\n",
    "    del stack\n",
    "    \n",
    "    #  local variables\n",
    "    itrpltd_dist = []\n",
    "    layertop = []\n",
    "    layerbot = []\n",
    "    layer_stack = []\n",
    "    \n",
    "    coorfile = coorfile[:,1:]\n",
    "\n",
    "    # make polygon for top of stack (layertop) and bottom of stack (layerbot) by appending the upper and lower layer bound lines\n",
    "    # add top line\n",
    "    for n in range(LINE_COORCOUNT):\n",
    "        layertop.append(tuple((coorfile[layernumber-1][n],coorfile[layernumber-1][LINE_COORCOUNT+n])))\n",
    "        layerbot.append(tuple((coorfile[layernumber+(LAYER_COUNT)][n],coorfile[layernumber+(LAYER_COUNT)][LINE_COORCOUNT+n])))\n",
    "\n",
    "    # add bottom line\n",
    "    for n in range(LINE_COORCOUNT, 0,-1):\n",
    "        layertop.append(tuple((coorfile[layernumber][n-1],coorfile[layernumber][n+LINE_COORCOUNT-1])))\n",
    "        layerbot.append(tuple((coorfile[layernumber+(LAYER_COUNT+1)][n-1],coorfile[layernumber+(LAYER_COUNT+1)][n+LINE_COORCOUNT-1])))\n",
    "    \n",
    "\n",
    "    # calculate the difference between top and bottom polygon y-coordinates, the difference\n",
    "    # by stack size -1 = number of images that need to be interpolated\n",
    "    for n in range(COORCOUNT):\n",
    "        diff = layertop[n][1]-layerbot[n][1]\n",
    "        dist = diff/(STACKSIZE-1)\n",
    "        itrpltd_dist.append(dist)\n",
    "\n",
    "    # fill a stack of size stack_size (size of data stack) with coordinates of top layer -> will be changed for each image in next step\n",
    "    arr1 = np.array(layertop)\n",
    "    stack_coordinates = [arr1]*STACKSIZE\n",
    "    stack_coord = np.asarray(stack_coordinates)\n",
    "\n",
    "    # get an array for the interpolated coordinates for all images -> image coordinate - interpolated distance\n",
    "    for n in range(STACKSIZE):        \n",
    "        for i in range(COORCOUNT):         \n",
    "            stack_coord[n][i][1] = stack_coord[n][i][1] - itrpltd_dist[i]*n\n",
    "\n",
    "    # crop stack image by image to polygon and then create new stack with cropped images       \n",
    "    for i in range(STACKSIZE):\n",
    "        \n",
    "        # select current image\n",
    "        currentimage = stackarr[i]\n",
    "        polygon = []\n",
    "\n",
    "        # make calculated coordinates to tuples (only way they can be fed into the polygon drawing function)\n",
    "        for n in range (COORCOUNT):\n",
    "            coordpair = tuple(stack_coord[i][n])\n",
    "            polygon.append(coordpair)\n",
    "        \n",
    "        # create empty image with same image as the data image\n",
    "        maskIm = Image.new('L', (currentimage.shape[1], currentimage.shape[0]), BLACK)\n",
    "        \n",
    "        # draw polygon mask into empty image (fill polygon with 2s)\n",
    "        ImageDraw.Draw(maskIm).polygon(polygon, outline=EMPTY, fill=EMPTY)\n",
    "        arraymask = np.array(maskIm)\n",
    "        \n",
    "        # set selected image to 0 (black) where there is no filled polygon -> leaves the polygon data\n",
    "        currentimage[arraymask!=EMPTY]=BLACK\n",
    "        \n",
    "        # append cropped image to new cropped image stack\n",
    "        layer_stack.append(currentimage)\n",
    "    \n",
    "    # convert layer polygons to array\n",
    "    arr_layertop = np.array(layertop)\n",
    "    arr_layerbot = np.array(layerbot)\n",
    "    \n",
    "    # get for both top and bottom polygon the min and max y value\n",
    "    MIN_top = min(arr_layertop[:,1])\n",
    "    MAX_top = max(arr_layertop[:,1])\n",
    "    MIN_bottom = min(arr_layerbot[:,1])\n",
    "    MAX_bottom = max(arr_layerbot[:,1])\n",
    "\n",
    "    # get overall min and max y value -> for whole stack\n",
    "    MIN = min(MIN_top,MIN_bottom)\n",
    "    MAX = max(MAX_top,MAX_bottom)\n",
    "\n",
    "    # crop away top and bottom of image that does not contain data (data: between min & max)\n",
    "    layer_stack = np.asarray(layer_stack)\n",
    "    layer_stack_crop = layer_stack[:,MIN:MAX]\n",
    "\n",
    "    # save layer stack as tiff file\n",
    "    tif.imwrite(savefile, layer_stack_crop, bigtiff=True)"
   ]
  },
  {
   "attachments": {},
   "cell_type": "markdown",
   "metadata": {},
   "source": [
    "### Run layer crop function for each layer and save tif of layer stack"
   ]
  },
  {
   "cell_type": "code",
   "execution_count": 81,
   "metadata": {},
   "outputs": [],
   "source": [
    "# run function for layers, input name the layer stack tiff should be saved as\n",
    "layer1 = layercropping(COORFILE, 1, \"layer1.tif\")\n",
    "#layer2 = layercropping(COORFILE, 2, \"layer2.tif\")\n",
    "#layer3 = layercropping(COORFILE, 3, \"layer3.tif\")"
   ]
  }
 ],
 "metadata": {
  "kernelspec": {
   "display_name": "Python 3.9.7 64-bit",
   "language": "python",
   "name": "python3"
  },
  "language_info": {
   "codemirror_mode": {
    "name": "ipython",
    "version": 3
   },
   "file_extension": ".py",
   "mimetype": "text/x-python",
   "name": "python",
   "nbconvert_exporter": "python",
   "pygments_lexer": "ipython3",
   "version": "3.9.13"
  },
  "orig_nbformat": 4,
  "vscode": {
   "interpreter": {
    "hash": "52634da84371cba311ea128a5ea7cdc41ff074b781779e754b270ff9f8153cee"
   }
  }
 },
 "nbformat": 4,
 "nbformat_minor": 2
}
